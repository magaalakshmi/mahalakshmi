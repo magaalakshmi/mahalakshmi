{
 "cells": [
  {
   "cell_type": "code",
   "execution_count": 1,
   "metadata": {},
   "outputs": [
    {
     "name": "stdout",
     "output_type": "stream",
     "text": [
      "Mahalakshmi\n"
     ]
    }
   ],
   "source": [
    "fullname = 'Mahalakshmi'\n",
    "print(fullname)"
   ]
  },
  {
   "cell_type": "code",
   "execution_count": 2,
   "metadata": {},
   "outputs": [
    {
     "name": "stdout",
     "output_type": "stream",
     "text": [
      "Mahalakshmi Subramani\n"
     ]
    }
   ],
   "source": [
    "fullname = 'mahalakshmi subramani'\n",
    "print(fullname.title())"
   ]
  },
  {
   "cell_type": "code",
   "execution_count": 2,
   "metadata": {},
   "outputs": [
    {
     "name": "stdout",
     "output_type": "stream",
     "text": [
      "mahamani\n"
     ]
    }
   ],
   "source": [
    "#introduction f string in python\n",
    "# fullname = f'{place holder1}{place holder2}'\n",
    "firstname = 'maha'\n",
    "lastname = 'mani'\n",
    "fullname = f\"{firstname}{lastname}\"\n",
    "print(fullname)"
   ]
  },
  {
   "cell_type": "code",
   "execution_count": 5,
   "metadata": {},
   "outputs": [
    {
     "name": "stdout",
     "output_type": "stream",
     "text": [
      "mahamani\n"
     ]
    }
   ],
   "source": [
    "fullname = f'{firstname}{lastname}'\n",
    "print(fullname)"
   ]
  },
  {
   "cell_type": "code",
   "execution_count": 6,
   "metadata": {},
   "outputs": [
    {
     "name": "stdout",
     "output_type": "stream",
     "text": [
      " keep up the goodwork, mahamani\n"
     ]
    }
   ],
   "source": [
    "x = f\" keep up the goodwork, {fullname}\"\n",
    "print(x)"
   ]
  },
  {
   "cell_type": "code",
   "execution_count": 7,
   "metadata": {},
   "outputs": [
    {
     "name": "stdout",
     "output_type": "stream",
     "text": [
      " keep up the goodwork, Mahamani\n"
     ]
    }
   ],
   "source": [
    "x = f\" keep up the goodwork, {fullname.title()}\"\n",
    "print(x)"
   ]
  },
  {
   "cell_type": "code",
   "execution_count": 8,
   "metadata": {},
   "outputs": [
    {
     "name": "stdout",
     "output_type": "stream",
     "text": [
      "keep up the goodwork, MAHAMANI\n"
     ]
    }
   ],
   "source": [
    "x = f\"keep up the goodwork, {fullname.upper()}\"\n",
    "print(x)"
   ]
  },
  {
   "cell_type": "code",
   "execution_count": null,
   "metadata": {},
   "outputs": [],
   "source": []
  }
 ],
 "metadata": {
  "kernelspec": {
   "display_name": "Python 3",
   "language": "python",
   "name": "python3"
  }
 },
 "nbformat": 4,
 "nbformat_minor": 4
}
